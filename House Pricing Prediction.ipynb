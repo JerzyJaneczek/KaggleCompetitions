{
 "cells": [
  {
   "cell_type": "markdown",
   "id": "d7dcf19e",
   "metadata": {
    "papermill": {
     "duration": 0.008552,
     "end_time": "2024-03-09T21:36:43.539945",
     "exception": false,
     "start_time": "2024-03-09T21:36:43.531393",
     "status": "completed"
    },
    "tags": []
   },
   "source": [
    "**This notebook is an exercise in the [Intermediate Machine Learning](https://www.kaggle.com/learn/intermediate-machine-learning) course.  You can reference the tutorial at [this link](https://www.kaggle.com/alexisbcook/missing-values).**\n",
    "\n",
    "---\n"
   ]
  },
  {
   "cell_type": "markdown",
   "id": "49bb5e7f",
   "metadata": {
    "papermill": {
     "duration": 0.007819,
     "end_time": "2024-03-09T21:36:43.556345",
     "exception": false,
     "start_time": "2024-03-09T21:36:43.548526",
     "status": "completed"
    },
    "tags": []
   },
   "source": [
    "Now it's your turn to test your new knowledge of **missing values** handling. You'll probably find it makes a big difference.\n",
    "\n",
    "# Setup\n",
    "\n",
    "The questions will give you feedback on your work. Run the following cell to set up the feedback system."
   ]
  },
  {
   "cell_type": "code",
   "execution_count": 1,
   "id": "bd5791d5",
   "metadata": {
    "execution": {
     "iopub.execute_input": "2024-03-09T21:36:43.575063Z",
     "iopub.status.busy": "2024-03-09T21:36:43.574280Z",
     "iopub.status.idle": "2024-03-09T21:36:44.441240Z",
     "shell.execute_reply": "2024-03-09T21:36:44.440134Z"
    },
    "papermill": {
     "duration": 0.879058,
     "end_time": "2024-03-09T21:36:44.443550",
     "exception": false,
     "start_time": "2024-03-09T21:36:43.564492",
     "status": "completed"
    },
    "tags": []
   },
   "outputs": [
    {
     "name": "stdout",
     "output_type": "stream",
     "text": [
      "Setup Complete\n"
     ]
    }
   ],
   "source": [
    "# Set up code checking\n",
    "import os\n",
    "if not os.path.exists(\"../input/train.csv\"):\n",
    "    os.symlink(\"../input/home-data-for-ml-course/train.csv\", \"../input/train.csv\")  \n",
    "    os.symlink(\"../input/home-data-for-ml-course/test.csv\", \"../input/test.csv\") \n",
    "from learntools.core import binder\n",
    "binder.bind(globals())\n",
    "from learntools.ml_intermediate.ex2 import *\n",
    "print(\"Setup Complete\")"
   ]
  },
  {
   "cell_type": "markdown",
   "id": "3f3d7478",
   "metadata": {
    "papermill": {
     "duration": 0.009664,
     "end_time": "2024-03-09T21:36:44.461469",
     "exception": false,
     "start_time": "2024-03-09T21:36:44.451805",
     "status": "completed"
    },
    "tags": []
   },
   "source": [
    "In this exercise, you will work with data from the [Housing Prices Competition for Kaggle Learn Users](https://www.kaggle.com/c/home-data-for-ml-course). \n",
    "\n",
    "![Ames Housing dataset image](https://storage.googleapis.com/kaggle-media/learn/images/lTJVG4e.png)\n",
    "\n",
    "Run the next code cell without changes to load the training and validation sets in `X_train`, `X_valid`, `y_train`, and `y_valid`.  The test set is loaded in `X_test`."
   ]
  },
  {
   "cell_type": "code",
   "execution_count": 2,
   "id": "2aa01632",
   "metadata": {
    "execution": {
     "iopub.execute_input": "2024-03-09T21:36:44.479893Z",
     "iopub.status.busy": "2024-03-09T21:36:44.479107Z",
     "iopub.status.idle": "2024-03-09T21:36:45.824618Z",
     "shell.execute_reply": "2024-03-09T21:36:45.823590Z"
    },
    "papermill": {
     "duration": 1.357432,
     "end_time": "2024-03-09T21:36:45.827035",
     "exception": false,
     "start_time": "2024-03-09T21:36:44.469603",
     "status": "completed"
    },
    "tags": []
   },
   "outputs": [],
   "source": [
    "import pandas as pd\n",
    "from sklearn.model_selection import train_test_split\n",
    "\n",
    "# Read the data\n",
    "X_full = pd.read_csv('../input/train.csv', index_col='Id')\n",
    "X_test_full = pd.read_csv('../input/test.csv', index_col='Id')\n",
    "\n",
    "# Remove rows with missing target, separate target from predictors\n",
    "X_full.dropna(axis=0, subset=['SalePrice'], inplace=True)\n",
    "y = X_full.SalePrice\n",
    "X_full.drop(['SalePrice'], axis=1, inplace=True)\n",
    "\n",
    "# To keep things simple, we'll use only numerical predictors\n",
    "X = X_full.select_dtypes(exclude=['object'])\n",
    "X_test = X_test_full.select_dtypes(exclude=['object'])\n",
    "\n",
    "# Break off validation set from training data\n",
    "X_train, X_valid, y_train, y_valid = train_test_split(X, y, train_size=0.8, test_size=0.2,\n",
    "                                                      random_state=0)"
   ]
  },
  {
   "cell_type": "markdown",
   "id": "52bb2cde",
   "metadata": {
    "papermill": {
     "duration": 0.007892,
     "end_time": "2024-03-09T21:36:45.843438",
     "exception": false,
     "start_time": "2024-03-09T21:36:45.835546",
     "status": "completed"
    },
    "tags": []
   },
   "source": [
    "Use the next code cell to print the first five rows of the data."
   ]
  },
  {
   "cell_type": "code",
   "execution_count": 3,
   "id": "7b673bba",
   "metadata": {
    "execution": {
     "iopub.execute_input": "2024-03-09T21:36:45.861790Z",
     "iopub.status.busy": "2024-03-09T21:36:45.860847Z",
     "iopub.status.idle": "2024-03-09T21:36:45.885300Z",
     "shell.execute_reply": "2024-03-09T21:36:45.884526Z"
    },
    "papermill": {
     "duration": 0.035627,
     "end_time": "2024-03-09T21:36:45.887163",
     "exception": false,
     "start_time": "2024-03-09T21:36:45.851536",
     "status": "completed"
    },
    "tags": []
   },
   "outputs": [
    {
     "data": {
      "text/html": [
       "<div>\n",
       "<style scoped>\n",
       "    .dataframe tbody tr th:only-of-type {\n",
       "        vertical-align: middle;\n",
       "    }\n",
       "\n",
       "    .dataframe tbody tr th {\n",
       "        vertical-align: top;\n",
       "    }\n",
       "\n",
       "    .dataframe thead th {\n",
       "        text-align: right;\n",
       "    }\n",
       "</style>\n",
       "<table border=\"1\" class=\"dataframe\">\n",
       "  <thead>\n",
       "    <tr style=\"text-align: right;\">\n",
       "      <th></th>\n",
       "      <th>MSSubClass</th>\n",
       "      <th>LotFrontage</th>\n",
       "      <th>LotArea</th>\n",
       "      <th>OverallQual</th>\n",
       "      <th>OverallCond</th>\n",
       "      <th>YearBuilt</th>\n",
       "      <th>YearRemodAdd</th>\n",
       "      <th>MasVnrArea</th>\n",
       "      <th>BsmtFinSF1</th>\n",
       "      <th>BsmtFinSF2</th>\n",
       "      <th>...</th>\n",
       "      <th>GarageArea</th>\n",
       "      <th>WoodDeckSF</th>\n",
       "      <th>OpenPorchSF</th>\n",
       "      <th>EnclosedPorch</th>\n",
       "      <th>3SsnPorch</th>\n",
       "      <th>ScreenPorch</th>\n",
       "      <th>PoolArea</th>\n",
       "      <th>MiscVal</th>\n",
       "      <th>MoSold</th>\n",
       "      <th>YrSold</th>\n",
       "    </tr>\n",
       "    <tr>\n",
       "      <th>Id</th>\n",
       "      <th></th>\n",
       "      <th></th>\n",
       "      <th></th>\n",
       "      <th></th>\n",
       "      <th></th>\n",
       "      <th></th>\n",
       "      <th></th>\n",
       "      <th></th>\n",
       "      <th></th>\n",
       "      <th></th>\n",
       "      <th></th>\n",
       "      <th></th>\n",
       "      <th></th>\n",
       "      <th></th>\n",
       "      <th></th>\n",
       "      <th></th>\n",
       "      <th></th>\n",
       "      <th></th>\n",
       "      <th></th>\n",
       "      <th></th>\n",
       "      <th></th>\n",
       "    </tr>\n",
       "  </thead>\n",
       "  <tbody>\n",
       "    <tr>\n",
       "      <th>619</th>\n",
       "      <td>20</td>\n",
       "      <td>90.0</td>\n",
       "      <td>11694</td>\n",
       "      <td>9</td>\n",
       "      <td>5</td>\n",
       "      <td>2007</td>\n",
       "      <td>2007</td>\n",
       "      <td>452.0</td>\n",
       "      <td>48</td>\n",
       "      <td>0</td>\n",
       "      <td>...</td>\n",
       "      <td>774</td>\n",
       "      <td>0</td>\n",
       "      <td>108</td>\n",
       "      <td>0</td>\n",
       "      <td>0</td>\n",
       "      <td>260</td>\n",
       "      <td>0</td>\n",
       "      <td>0</td>\n",
       "      <td>7</td>\n",
       "      <td>2007</td>\n",
       "    </tr>\n",
       "    <tr>\n",
       "      <th>871</th>\n",
       "      <td>20</td>\n",
       "      <td>60.0</td>\n",
       "      <td>6600</td>\n",
       "      <td>5</td>\n",
       "      <td>5</td>\n",
       "      <td>1962</td>\n",
       "      <td>1962</td>\n",
       "      <td>0.0</td>\n",
       "      <td>0</td>\n",
       "      <td>0</td>\n",
       "      <td>...</td>\n",
       "      <td>308</td>\n",
       "      <td>0</td>\n",
       "      <td>0</td>\n",
       "      <td>0</td>\n",
       "      <td>0</td>\n",
       "      <td>0</td>\n",
       "      <td>0</td>\n",
       "      <td>0</td>\n",
       "      <td>8</td>\n",
       "      <td>2009</td>\n",
       "    </tr>\n",
       "    <tr>\n",
       "      <th>93</th>\n",
       "      <td>30</td>\n",
       "      <td>80.0</td>\n",
       "      <td>13360</td>\n",
       "      <td>5</td>\n",
       "      <td>7</td>\n",
       "      <td>1921</td>\n",
       "      <td>2006</td>\n",
       "      <td>0.0</td>\n",
       "      <td>713</td>\n",
       "      <td>0</td>\n",
       "      <td>...</td>\n",
       "      <td>432</td>\n",
       "      <td>0</td>\n",
       "      <td>0</td>\n",
       "      <td>44</td>\n",
       "      <td>0</td>\n",
       "      <td>0</td>\n",
       "      <td>0</td>\n",
       "      <td>0</td>\n",
       "      <td>8</td>\n",
       "      <td>2009</td>\n",
       "    </tr>\n",
       "    <tr>\n",
       "      <th>818</th>\n",
       "      <td>20</td>\n",
       "      <td>NaN</td>\n",
       "      <td>13265</td>\n",
       "      <td>8</td>\n",
       "      <td>5</td>\n",
       "      <td>2002</td>\n",
       "      <td>2002</td>\n",
       "      <td>148.0</td>\n",
       "      <td>1218</td>\n",
       "      <td>0</td>\n",
       "      <td>...</td>\n",
       "      <td>857</td>\n",
       "      <td>150</td>\n",
       "      <td>59</td>\n",
       "      <td>0</td>\n",
       "      <td>0</td>\n",
       "      <td>0</td>\n",
       "      <td>0</td>\n",
       "      <td>0</td>\n",
       "      <td>7</td>\n",
       "      <td>2008</td>\n",
       "    </tr>\n",
       "    <tr>\n",
       "      <th>303</th>\n",
       "      <td>20</td>\n",
       "      <td>118.0</td>\n",
       "      <td>13704</td>\n",
       "      <td>7</td>\n",
       "      <td>5</td>\n",
       "      <td>2001</td>\n",
       "      <td>2002</td>\n",
       "      <td>150.0</td>\n",
       "      <td>0</td>\n",
       "      <td>0</td>\n",
       "      <td>...</td>\n",
       "      <td>843</td>\n",
       "      <td>468</td>\n",
       "      <td>81</td>\n",
       "      <td>0</td>\n",
       "      <td>0</td>\n",
       "      <td>0</td>\n",
       "      <td>0</td>\n",
       "      <td>0</td>\n",
       "      <td>1</td>\n",
       "      <td>2006</td>\n",
       "    </tr>\n",
       "  </tbody>\n",
       "</table>\n",
       "<p>5 rows × 36 columns</p>\n",
       "</div>"
      ],
      "text/plain": [
       "     MSSubClass  LotFrontage  LotArea  OverallQual  OverallCond  YearBuilt  \\\n",
       "Id                                                                           \n",
       "619          20         90.0    11694            9            5       2007   \n",
       "871          20         60.0     6600            5            5       1962   \n",
       "93           30         80.0    13360            5            7       1921   \n",
       "818          20          NaN    13265            8            5       2002   \n",
       "303          20        118.0    13704            7            5       2001   \n",
       "\n",
       "     YearRemodAdd  MasVnrArea  BsmtFinSF1  BsmtFinSF2  ...  GarageArea  \\\n",
       "Id                                                     ...               \n",
       "619          2007       452.0          48           0  ...         774   \n",
       "871          1962         0.0           0           0  ...         308   \n",
       "93           2006         0.0         713           0  ...         432   \n",
       "818          2002       148.0        1218           0  ...         857   \n",
       "303          2002       150.0           0           0  ...         843   \n",
       "\n",
       "     WoodDeckSF  OpenPorchSF  EnclosedPorch  3SsnPorch  ScreenPorch  PoolArea  \\\n",
       "Id                                                                              \n",
       "619           0          108              0          0          260         0   \n",
       "871           0            0              0          0            0         0   \n",
       "93            0            0             44          0            0         0   \n",
       "818         150           59              0          0            0         0   \n",
       "303         468           81              0          0            0         0   \n",
       "\n",
       "     MiscVal  MoSold  YrSold  \n",
       "Id                            \n",
       "619        0       7    2007  \n",
       "871        0       8    2009  \n",
       "93         0       8    2009  \n",
       "818        0       7    2008  \n",
       "303        0       1    2006  \n",
       "\n",
       "[5 rows x 36 columns]"
      ]
     },
     "execution_count": 3,
     "metadata": {},
     "output_type": "execute_result"
    }
   ],
   "source": [
    "X_train.head()"
   ]
  },
  {
   "cell_type": "markdown",
   "id": "6728a60b",
   "metadata": {
    "papermill": {
     "duration": 0.008074,
     "end_time": "2024-03-09T21:36:45.904401",
     "exception": false,
     "start_time": "2024-03-09T21:36:45.896327",
     "status": "completed"
    },
    "tags": []
   },
   "source": [
    "You can already see a few missing values in the first several rows.  In the next step, you'll obtain a more comprehensive understanding of the missing values in the dataset.\n",
    "\n",
    "# Step 1: Preliminary investigation\n",
    "\n",
    "Run the code cell below without changes."
   ]
  },
  {
   "cell_type": "code",
   "execution_count": 4,
   "id": "080933b9",
   "metadata": {
    "execution": {
     "iopub.execute_input": "2024-03-09T21:36:45.922896Z",
     "iopub.status.busy": "2024-03-09T21:36:45.922297Z",
     "iopub.status.idle": "2024-03-09T21:36:45.928989Z",
     "shell.execute_reply": "2024-03-09T21:36:45.928002Z"
    },
    "papermill": {
     "duration": 0.018274,
     "end_time": "2024-03-09T21:36:45.930949",
     "exception": false,
     "start_time": "2024-03-09T21:36:45.912675",
     "status": "completed"
    },
    "tags": []
   },
   "outputs": [
    {
     "name": "stdout",
     "output_type": "stream",
     "text": [
      "(1168, 36)\n",
      "LotFrontage    212\n",
      "MasVnrArea       6\n",
      "GarageYrBlt     58\n",
      "dtype: int64\n"
     ]
    }
   ],
   "source": [
    "# Shape of training data (num_rows, num_columns)\n",
    "print(X_train.shape)\n",
    "\n",
    "# Number of missing values in each column of training data\n",
    "missing_val_count_by_column = (X_train.isnull().sum())\n",
    "print(missing_val_count_by_column[missing_val_count_by_column > 0])"
   ]
  },
  {
   "cell_type": "markdown",
   "id": "5f67ed3d",
   "metadata": {
    "papermill": {
     "duration": 0.008099,
     "end_time": "2024-03-09T21:36:45.947514",
     "exception": false,
     "start_time": "2024-03-09T21:36:45.939415",
     "status": "completed"
    },
    "tags": []
   },
   "source": [
    "### Part A\n",
    "\n",
    "Use the above output to answer the questions below."
   ]
  },
  {
   "cell_type": "code",
   "execution_count": 5,
   "id": "491213f4",
   "metadata": {
    "execution": {
     "iopub.execute_input": "2024-03-09T21:36:45.966216Z",
     "iopub.status.busy": "2024-03-09T21:36:45.965582Z",
     "iopub.status.idle": "2024-03-09T21:36:45.974638Z",
     "shell.execute_reply": "2024-03-09T21:36:45.973908Z"
    },
    "papermill": {
     "duration": 0.020484,
     "end_time": "2024-03-09T21:36:45.976397",
     "exception": false,
     "start_time": "2024-03-09T21:36:45.955913",
     "status": "completed"
    },
    "tags": []
   },
   "outputs": [
    {
     "data": {
      "application/javascript": [
       "parent.postMessage({\"jupyterEvent\": \"custom.exercise_interaction\", \"data\": {\"outcomeType\": 1, \"valueTowardsCompletion\": 1.0, \"interactionType\": 1, \"questionType\": 1, \"questionId\": \"1.1_InvestigateEquality\", \"learnToolsVersion\": \"0.3.4\", \"failureMessage\": \"\", \"exceptionClass\": \"\", \"trace\": \"\"}}, \"*\")"
      ],
      "text/plain": [
       "<IPython.core.display.Javascript object>"
      ]
     },
     "metadata": {},
     "output_type": "display_data"
    },
    {
     "data": {
      "text/markdown": [
       "<span style=\"color:#33cc33\">Correct</span>"
      ],
      "text/plain": [
       "Correct"
      ]
     },
     "metadata": {},
     "output_type": "display_data"
    }
   ],
   "source": [
    "# Fill in the line below: How many rows are in the training data?\n",
    "num_rows = X_train.shape[0]\n",
    "\n",
    "\n",
    "\n",
    "# Fill in the line below: How many columns in the training data\n",
    "# have missing values?\n",
    "num_cols_with_missing = (X_train.isnull().sum() > 0).sum()\n",
    "\n",
    "# Fill in the line below: How many missing entries are contained in \n",
    "# all of the training data?\n",
    "tot_missing = (X_train.isnull().sum()).sum()\n",
    "\n",
    "# Check your answers\n",
    "step_1.a.check()"
   ]
  },
  {
   "cell_type": "code",
   "execution_count": 6,
   "id": "109bca49",
   "metadata": {
    "execution": {
     "iopub.execute_input": "2024-03-09T21:36:45.995396Z",
     "iopub.status.busy": "2024-03-09T21:36:45.994783Z",
     "iopub.status.idle": "2024-03-09T21:36:45.998357Z",
     "shell.execute_reply": "2024-03-09T21:36:45.997470Z"
    },
    "papermill": {
     "duration": 0.015088,
     "end_time": "2024-03-09T21:36:46.000184",
     "exception": false,
     "start_time": "2024-03-09T21:36:45.985096",
     "status": "completed"
    },
    "tags": []
   },
   "outputs": [],
   "source": [
    "# Lines below will give you a hint or solution code\n",
    "#step_1.a.hint()\n",
    "#step_1.a.solution()"
   ]
  },
  {
   "cell_type": "markdown",
   "id": "a338ea1f",
   "metadata": {
    "papermill": {
     "duration": 0.008247,
     "end_time": "2024-03-09T21:36:46.017034",
     "exception": false,
     "start_time": "2024-03-09T21:36:46.008787",
     "status": "completed"
    },
    "tags": []
   },
   "source": [
    "### Part B\n",
    "Considering your answers above, what do you think is likely the best approach to dealing with the missing values?"
   ]
  },
  {
   "cell_type": "code",
   "execution_count": 7,
   "id": "37b4597d",
   "metadata": {
    "execution": {
     "iopub.execute_input": "2024-03-09T21:36:46.036477Z",
     "iopub.status.busy": "2024-03-09T21:36:46.035800Z",
     "iopub.status.idle": "2024-03-09T21:36:46.043379Z",
     "shell.execute_reply": "2024-03-09T21:36:46.042329Z"
    },
    "papermill": {
     "duration": 0.019575,
     "end_time": "2024-03-09T21:36:46.045283",
     "exception": false,
     "start_time": "2024-03-09T21:36:46.025708",
     "status": "completed"
    },
    "tags": []
   },
   "outputs": [
    {
     "data": {
      "application/javascript": [
       "parent.postMessage({\"jupyterEvent\": \"custom.exercise_interaction\", \"data\": {\"outcomeType\": 1, \"valueTowardsCompletion\": 1.0, \"interactionType\": 1, \"questionType\": 4, \"questionId\": \"1.2_InvestigateThought\", \"learnToolsVersion\": \"0.3.4\", \"failureMessage\": \"\", \"exceptionClass\": \"\", \"trace\": \"\"}}, \"*\")"
      ],
      "text/plain": [
       "<IPython.core.display.Javascript object>"
      ]
     },
     "metadata": {},
     "output_type": "display_data"
    },
    {
     "data": {
      "text/markdown": [
       "<span style=\"color:#33cc33\">Correct:</span> \n",
       "\n",
       "Since there are relatively few missing entries in the data (the column with the greatest percentage of missing values is missing less than 20% of its entries), we can expect that dropping columns is unlikely to yield good results.  This is because we'd be throwing away a lot of valuable data, and so imputation will likely perform better."
      ],
      "text/plain": [
       "Correct: \n",
       "\n",
       "Since there are relatively few missing entries in the data (the column with the greatest percentage of missing values is missing less than 20% of its entries), we can expect that dropping columns is unlikely to yield good results.  This is because we'd be throwing away a lot of valuable data, and so imputation will likely perform better."
      ]
     },
     "metadata": {},
     "output_type": "display_data"
    }
   ],
   "source": [
    "# Check your answer (Run this code cell to receive credit!)\n",
    "step_1.b.check()"
   ]
  },
  {
   "cell_type": "code",
   "execution_count": 8,
   "id": "fdbd4161",
   "metadata": {
    "execution": {
     "iopub.execute_input": "2024-03-09T21:36:46.065101Z",
     "iopub.status.busy": "2024-03-09T21:36:46.064467Z",
     "iopub.status.idle": "2024-03-09T21:36:46.068012Z",
     "shell.execute_reply": "2024-03-09T21:36:46.067298Z"
    },
    "papermill": {
     "duration": 0.015442,
     "end_time": "2024-03-09T21:36:46.069771",
     "exception": false,
     "start_time": "2024-03-09T21:36:46.054329",
     "status": "completed"
    },
    "tags": []
   },
   "outputs": [],
   "source": [
    "#step_1.b.hint()"
   ]
  },
  {
   "cell_type": "markdown",
   "id": "e6ebbdf4",
   "metadata": {
    "papermill": {
     "duration": 0.008578,
     "end_time": "2024-03-09T21:36:46.087394",
     "exception": false,
     "start_time": "2024-03-09T21:36:46.078816",
     "status": "completed"
    },
    "tags": []
   },
   "source": [
    "To compare different approaches to dealing with missing values, you'll use the same `score_dataset()` function from the tutorial.  This function reports the [mean absolute error](https://en.wikipedia.org/wiki/Mean_absolute_error) (MAE) from a random forest model."
   ]
  },
  {
   "cell_type": "code",
   "execution_count": 9,
   "id": "e46a6337",
   "metadata": {
    "execution": {
     "iopub.execute_input": "2024-03-09T21:36:46.107183Z",
     "iopub.status.busy": "2024-03-09T21:36:46.106539Z",
     "iopub.status.idle": "2024-03-09T21:36:46.444280Z",
     "shell.execute_reply": "2024-03-09T21:36:46.443469Z"
    },
    "papermill": {
     "duration": 0.35025,
     "end_time": "2024-03-09T21:36:46.446570",
     "exception": false,
     "start_time": "2024-03-09T21:36:46.096320",
     "status": "completed"
    },
    "tags": []
   },
   "outputs": [],
   "source": [
    "from sklearn.ensemble import RandomForestRegressor\n",
    "from sklearn.metrics import mean_absolute_error\n",
    "\n",
    "# Function for comparing different approaches\n",
    "def score_dataset(X_train, X_valid, y_train, y_valid):\n",
    "    model = RandomForestRegressor(n_estimators=100, random_state=0)\n",
    "    model.fit(X_train, y_train)\n",
    "    preds = model.predict(X_valid)\n",
    "    return mean_absolute_error(y_valid, preds)"
   ]
  },
  {
   "cell_type": "markdown",
   "id": "494d8c8e",
   "metadata": {
    "papermill": {
     "duration": 0.009793,
     "end_time": "2024-03-09T21:36:46.465482",
     "exception": false,
     "start_time": "2024-03-09T21:36:46.455689",
     "status": "completed"
    },
    "tags": []
   },
   "source": [
    "# Step 2: Drop columns with missing values\n",
    "\n",
    "In this step, you'll preprocess the data in `X_train` and `X_valid` to remove columns with missing values.  Set the preprocessed DataFrames to `reduced_X_train` and `reduced_X_valid`, respectively.  "
   ]
  },
  {
   "cell_type": "code",
   "execution_count": 10,
   "id": "06d63067",
   "metadata": {
    "execution": {
     "iopub.execute_input": "2024-03-09T21:36:46.486063Z",
     "iopub.status.busy": "2024-03-09T21:36:46.485414Z",
     "iopub.status.idle": "2024-03-09T21:36:46.505728Z",
     "shell.execute_reply": "2024-03-09T21:36:46.505035Z"
    },
    "papermill": {
     "duration": 0.032859,
     "end_time": "2024-03-09T21:36:46.507557",
     "exception": false,
     "start_time": "2024-03-09T21:36:46.474698",
     "status": "completed"
    },
    "tags": []
   },
   "outputs": [
    {
     "data": {
      "application/javascript": [
       "parent.postMessage({\"jupyterEvent\": \"custom.exercise_interaction\", \"data\": {\"outcomeType\": 1, \"valueTowardsCompletion\": 1.0, \"interactionType\": 1, \"questionType\": 2, \"questionId\": \"2_DropMissing\", \"learnToolsVersion\": \"0.3.4\", \"failureMessage\": \"\", \"exceptionClass\": \"\", \"trace\": \"\"}}, \"*\")"
      ],
      "text/plain": [
       "<IPython.core.display.Javascript object>"
      ]
     },
     "metadata": {},
     "output_type": "display_data"
    },
    {
     "data": {
      "text/markdown": [
       "<span style=\"color:#33cc33\">Correct</span>"
      ],
      "text/plain": [
       "Correct"
      ]
     },
     "metadata": {},
     "output_type": "display_data"
    }
   ],
   "source": [
    "# Fill in the line below: get names of columns with missing values\n",
    "# Your code here\n",
    "cols_with_missing = [col for col in X_train.columns\n",
    "                     if X_train[col].isnull().any()]\n",
    "\n",
    "\n",
    "# Fill in the lines below: drop columns in training and validation data\n",
    "reduced_X_train = X_train.drop(cols_with_missing, axis = 1)\n",
    "reduced_X_valid = X_valid.drop(cols_with_missing, axis = 1)\n",
    "\n",
    "# Check your answers\n",
    "step_2.check()"
   ]
  },
  {
   "cell_type": "code",
   "execution_count": 11,
   "id": "7ba5d88d",
   "metadata": {
    "execution": {
     "iopub.execute_input": "2024-03-09T21:36:46.529424Z",
     "iopub.status.busy": "2024-03-09T21:36:46.528802Z",
     "iopub.status.idle": "2024-03-09T21:36:46.532244Z",
     "shell.execute_reply": "2024-03-09T21:36:46.531539Z"
    },
    "papermill": {
     "duration": 0.016464,
     "end_time": "2024-03-09T21:36:46.534038",
     "exception": false,
     "start_time": "2024-03-09T21:36:46.517574",
     "status": "completed"
    },
    "tags": []
   },
   "outputs": [],
   "source": [
    "# Lines below will give you a hint or solution code\n",
    "#step_2.hint()\n",
    "#step_2.solution()"
   ]
  },
  {
   "cell_type": "markdown",
   "id": "ef5602d1",
   "metadata": {
    "papermill": {
     "duration": 0.008913,
     "end_time": "2024-03-09T21:36:46.552567",
     "exception": false,
     "start_time": "2024-03-09T21:36:46.543654",
     "status": "completed"
    },
    "tags": []
   },
   "source": [
    "Run the next code cell without changes to obtain the MAE for this approach."
   ]
  },
  {
   "cell_type": "code",
   "execution_count": 12,
   "id": "bbea8c0e",
   "metadata": {
    "execution": {
     "iopub.execute_input": "2024-03-09T21:36:46.573107Z",
     "iopub.status.busy": "2024-03-09T21:36:46.572433Z",
     "iopub.status.idle": "2024-03-09T21:36:47.801895Z",
     "shell.execute_reply": "2024-03-09T21:36:47.800829Z"
    },
    "papermill": {
     "duration": 1.242262,
     "end_time": "2024-03-09T21:36:47.804091",
     "exception": false,
     "start_time": "2024-03-09T21:36:46.561829",
     "status": "completed"
    },
    "tags": []
   },
   "outputs": [
    {
     "name": "stdout",
     "output_type": "stream",
     "text": [
      "MAE (Drop columns with missing values):\n",
      "17837.82570776256\n"
     ]
    }
   ],
   "source": [
    "print(\"MAE (Drop columns with missing values):\")\n",
    "print(score_dataset(reduced_X_train, reduced_X_valid, y_train, y_valid))"
   ]
  },
  {
   "cell_type": "markdown",
   "id": "6638999d",
   "metadata": {
    "papermill": {
     "duration": 0.009245,
     "end_time": "2024-03-09T21:36:47.822797",
     "exception": false,
     "start_time": "2024-03-09T21:36:47.813552",
     "status": "completed"
    },
    "tags": []
   },
   "source": [
    "# Step 3: Imputation\n",
    "\n",
    "### Part A\n",
    "\n",
    "Use the next code cell to impute missing values with the mean value along each column.  Set the preprocessed DataFrames to `imputed_X_train` and `imputed_X_valid`.  Make sure that the column names match those in `X_train` and `X_valid`."
   ]
  },
  {
   "cell_type": "code",
   "execution_count": 13,
   "id": "0510dff3",
   "metadata": {
    "execution": {
     "iopub.execute_input": "2024-03-09T21:36:47.843927Z",
     "iopub.status.busy": "2024-03-09T21:36:47.843528Z",
     "iopub.status.idle": "2024-03-09T21:36:47.873023Z",
     "shell.execute_reply": "2024-03-09T21:36:47.872042Z"
    },
    "papermill": {
     "duration": 0.04258,
     "end_time": "2024-03-09T21:36:47.874990",
     "exception": false,
     "start_time": "2024-03-09T21:36:47.832410",
     "status": "completed"
    },
    "tags": []
   },
   "outputs": [
    {
     "data": {
      "application/javascript": [
       "parent.postMessage({\"jupyterEvent\": \"custom.exercise_interaction\", \"data\": {\"outcomeType\": 1, \"valueTowardsCompletion\": 1.0, \"interactionType\": 1, \"questionType\": 2, \"questionId\": \"3.1_ImputeCode\", \"learnToolsVersion\": \"0.3.4\", \"failureMessage\": \"\", \"exceptionClass\": \"\", \"trace\": \"\"}}, \"*\")"
      ],
      "text/plain": [
       "<IPython.core.display.Javascript object>"
      ]
     },
     "metadata": {},
     "output_type": "display_data"
    },
    {
     "data": {
      "text/markdown": [
       "<span style=\"color:#33cc33\">Correct</span>"
      ],
      "text/plain": [
       "Correct"
      ]
     },
     "metadata": {},
     "output_type": "display_data"
    }
   ],
   "source": [
    "from sklearn.impute import SimpleImputer\n",
    "\n",
    "# Fill in the lines below: imputation\n",
    "____ # Your code here\n",
    "my_imputer = SimpleImputer()\n",
    "imputed_X_train = pd.DataFrame(my_imputer.fit_transform(X_train))\n",
    "imputed_X_valid =  pd.DataFrame(my_imputer.transform(X_valid))\n",
    "\n",
    "# Fill in the lines below: imputation removed column names; put them back\n",
    "imputed_X_train.columns = X_train.columns\n",
    "imputed_X_valid.columns = X_valid.columns\n",
    "\n",
    "# Check your answers\n",
    "step_3.a.check()"
   ]
  },
  {
   "cell_type": "code",
   "execution_count": 14,
   "id": "96327a87",
   "metadata": {
    "execution": {
     "iopub.execute_input": "2024-03-09T21:36:47.896491Z",
     "iopub.status.busy": "2024-03-09T21:36:47.895567Z",
     "iopub.status.idle": "2024-03-09T21:36:47.899621Z",
     "shell.execute_reply": "2024-03-09T21:36:47.898833Z"
    },
    "papermill": {
     "duration": 0.016981,
     "end_time": "2024-03-09T21:36:47.901661",
     "exception": false,
     "start_time": "2024-03-09T21:36:47.884680",
     "status": "completed"
    },
    "tags": []
   },
   "outputs": [],
   "source": [
    "# Lines below will give you a hint or solution code\n",
    "#step_3.a.hint()\n",
    "#step_3.a.solution()"
   ]
  },
  {
   "cell_type": "markdown",
   "id": "87f7cba0",
   "metadata": {
    "papermill": {
     "duration": 0.009168,
     "end_time": "2024-03-09T21:36:47.920442",
     "exception": false,
     "start_time": "2024-03-09T21:36:47.911274",
     "status": "completed"
    },
    "tags": []
   },
   "source": [
    "Run the next code cell without changes to obtain the MAE for this approach."
   ]
  },
  {
   "cell_type": "code",
   "execution_count": 15,
   "id": "a8d20d07",
   "metadata": {
    "execution": {
     "iopub.execute_input": "2024-03-09T21:36:47.941218Z",
     "iopub.status.busy": "2024-03-09T21:36:47.940816Z",
     "iopub.status.idle": "2024-03-09T21:36:49.311774Z",
     "shell.execute_reply": "2024-03-09T21:36:49.310660Z"
    },
    "papermill": {
     "duration": 1.384766,
     "end_time": "2024-03-09T21:36:49.314613",
     "exception": false,
     "start_time": "2024-03-09T21:36:47.929847",
     "status": "completed"
    },
    "tags": []
   },
   "outputs": [
    {
     "name": "stdout",
     "output_type": "stream",
     "text": [
      "MAE (Imputation):\n",
      "18062.894611872147\n"
     ]
    }
   ],
   "source": [
    "print(\"MAE (Imputation):\")\n",
    "print(score_dataset(imputed_X_train, imputed_X_valid, y_train, y_valid))"
   ]
  },
  {
   "cell_type": "markdown",
   "id": "f23af15d",
   "metadata": {
    "papermill": {
     "duration": 0.009893,
     "end_time": "2024-03-09T21:36:49.334590",
     "exception": false,
     "start_time": "2024-03-09T21:36:49.324697",
     "status": "completed"
    },
    "tags": []
   },
   "source": [
    "### Part B\n",
    "\n",
    "Compare the MAE from each approach.  Does anything surprise you about the results?  Why do you think one approach performed better than the other?"
   ]
  },
  {
   "cell_type": "code",
   "execution_count": 16,
   "id": "e055affe",
   "metadata": {
    "execution": {
     "iopub.execute_input": "2024-03-09T21:36:49.357121Z",
     "iopub.status.busy": "2024-03-09T21:36:49.356457Z",
     "iopub.status.idle": "2024-03-09T21:36:49.365250Z",
     "shell.execute_reply": "2024-03-09T21:36:49.364202Z"
    },
    "papermill": {
     "duration": 0.02241,
     "end_time": "2024-03-09T21:36:49.367329",
     "exception": false,
     "start_time": "2024-03-09T21:36:49.344919",
     "status": "completed"
    },
    "tags": []
   },
   "outputs": [
    {
     "data": {
      "application/javascript": [
       "parent.postMessage({\"jupyterEvent\": \"custom.exercise_interaction\", \"data\": {\"outcomeType\": 1, \"valueTowardsCompletion\": 1.0, \"interactionType\": 1, \"questionType\": 4, \"questionId\": \"3.2_ImputeThought\", \"learnToolsVersion\": \"0.3.4\", \"failureMessage\": \"\", \"exceptionClass\": \"\", \"trace\": \"\"}}, \"*\")"
      ],
      "text/plain": [
       "<IPython.core.display.Javascript object>"
      ]
     },
     "metadata": {},
     "output_type": "display_data"
    },
    {
     "data": {
      "text/markdown": [
       "<span style=\"color:#33cc33\">Correct:</span> \n",
       "\n",
       "Given that thre are so few missing values in the dataset, we'd expect imputation to perform better than dropping columns entirely.  However, we see that dropping columns performs slightly better!  While this can probably partially be attributed to noise in the dataset, another potential explanation is that the imputation method is not a great match to this dataset.  That is, maybe instead of filling in the mean value, it makes more sense to set every missing value to a value of 0, to fill in the most frequently encountered value, or to use some other method.  For instance, consider the `GarageYrBlt` column (which indicates the year that the garage was built).  It's likely that in some cases, a missing value could indicate a house that does not have a garage.  Does it make more sense to fill in the median value along each column in this case?  Or could we get better results by filling in the minimum value along each column?  It's not quite clear what's best in this case, but perhaps we can rule out some options immediately - for instance, setting missing values in this column to 0 is likely to yield horrible results!"
      ],
      "text/plain": [
       "Correct: \n",
       "\n",
       "Given that thre are so few missing values in the dataset, we'd expect imputation to perform better than dropping columns entirely.  However, we see that dropping columns performs slightly better!  While this can probably partially be attributed to noise in the dataset, another potential explanation is that the imputation method is not a great match to this dataset.  That is, maybe instead of filling in the mean value, it makes more sense to set every missing value to a value of 0, to fill in the most frequently encountered value, or to use some other method.  For instance, consider the `GarageYrBlt` column (which indicates the year that the garage was built).  It's likely that in some cases, a missing value could indicate a house that does not have a garage.  Does it make more sense to fill in the median value along each column in this case?  Or could we get better results by filling in the minimum value along each column?  It's not quite clear what's best in this case, but perhaps we can rule out some options immediately - for instance, setting missing values in this column to 0 is likely to yield horrible results!"
      ]
     },
     "metadata": {},
     "output_type": "display_data"
    }
   ],
   "source": [
    "# Check your answer (Run this code cell to receive credit!)\n",
    "step_3.b.check()"
   ]
  },
  {
   "cell_type": "code",
   "execution_count": 17,
   "id": "b2293055",
   "metadata": {
    "execution": {
     "iopub.execute_input": "2024-03-09T21:36:49.389357Z",
     "iopub.status.busy": "2024-03-09T21:36:49.388946Z",
     "iopub.status.idle": "2024-03-09T21:36:49.393519Z",
     "shell.execute_reply": "2024-03-09T21:36:49.392359Z"
    },
    "papermill": {
     "duration": 0.018114,
     "end_time": "2024-03-09T21:36:49.395661",
     "exception": false,
     "start_time": "2024-03-09T21:36:49.377547",
     "status": "completed"
    },
    "tags": []
   },
   "outputs": [],
   "source": [
    "#step_3.b.hint()"
   ]
  },
  {
   "cell_type": "markdown",
   "id": "d0654b69",
   "metadata": {
    "papermill": {
     "duration": 0.009929,
     "end_time": "2024-03-09T21:36:49.416210",
     "exception": false,
     "start_time": "2024-03-09T21:36:49.406281",
     "status": "completed"
    },
    "tags": []
   },
   "source": [
    "# Step 4: Generate test predictions\n",
    "\n",
    "In this final step, you'll use any approach of your choosing to deal with missing values.  Once you've preprocessed the training and validation features, you'll train and evaluate a random forest model.  Then, you'll preprocess the test data before generating predictions that can be submitted to the competition!\n",
    "\n",
    "### Part A\n",
    "\n",
    "Use the next code cell to preprocess the training and validation data.  Set the preprocessed DataFrames to `final_X_train` and `final_X_valid`.  **You can use any approach of your choosing here!**  in order for this step to be marked as correct, you need only ensure:\n",
    "- the preprocessed DataFrames have the same number of columns,\n",
    "- the preprocessed DataFrames have no missing values, \n",
    "- `final_X_train` and `y_train` have the same number of rows, and\n",
    "- `final_X_valid` and `y_valid` have the same number of rows."
   ]
  },
  {
   "cell_type": "code",
   "execution_count": 18,
   "id": "f1a51422",
   "metadata": {
    "execution": {
     "iopub.execute_input": "2024-03-09T21:36:49.438323Z",
     "iopub.status.busy": "2024-03-09T21:36:49.437908Z",
     "iopub.status.idle": "2024-03-09T21:36:49.451701Z",
     "shell.execute_reply": "2024-03-09T21:36:49.450606Z"
    },
    "papermill": {
     "duration": 0.027336,
     "end_time": "2024-03-09T21:36:49.453808",
     "exception": false,
     "start_time": "2024-03-09T21:36:49.426472",
     "status": "completed"
    },
    "tags": []
   },
   "outputs": [
    {
     "data": {
      "application/javascript": [
       "parent.postMessage({\"jupyterEvent\": \"custom.exercise_interaction\", \"data\": {\"outcomeType\": 1, \"valueTowardsCompletion\": 1.0, \"interactionType\": 1, \"questionType\": 2, \"questionId\": \"4.1_PredsCodeA\", \"learnToolsVersion\": \"0.3.4\", \"failureMessage\": \"\", \"exceptionClass\": \"\", \"trace\": \"\"}}, \"*\")"
      ],
      "text/plain": [
       "<IPython.core.display.Javascript object>"
      ]
     },
     "metadata": {},
     "output_type": "display_data"
    },
    {
     "data": {
      "text/markdown": [
       "<span style=\"color:#33cc33\">Correct</span>"
      ],
      "text/plain": [
       "Correct"
      ]
     },
     "metadata": {},
     "output_type": "display_data"
    }
   ],
   "source": [
    "# Preprocessed training and validation features\n",
    "final_X_train = imputed_X_train\n",
    "final_X_valid = imputed_X_valid\n",
    "\n",
    "# Check your answers\n",
    "step_4.a.check()"
   ]
  },
  {
   "cell_type": "code",
   "execution_count": 19,
   "id": "69b5b3b5",
   "metadata": {
    "execution": {
     "iopub.execute_input": "2024-03-09T21:36:49.476589Z",
     "iopub.status.busy": "2024-03-09T21:36:49.476206Z",
     "iopub.status.idle": "2024-03-09T21:36:49.480587Z",
     "shell.execute_reply": "2024-03-09T21:36:49.479540Z"
    },
    "papermill": {
     "duration": 0.018217,
     "end_time": "2024-03-09T21:36:49.482673",
     "exception": false,
     "start_time": "2024-03-09T21:36:49.464456",
     "status": "completed"
    },
    "tags": []
   },
   "outputs": [],
   "source": [
    "# Lines below will give you a hint or solution code\n",
    "#step_4.a.hint()\n",
    "#step_4.a.solution()"
   ]
  },
  {
   "cell_type": "markdown",
   "id": "53d823eb",
   "metadata": {
    "papermill": {
     "duration": 0.010271,
     "end_time": "2024-03-09T21:36:49.503683",
     "exception": false,
     "start_time": "2024-03-09T21:36:49.493412",
     "status": "completed"
    },
    "tags": []
   },
   "source": [
    "Run the next code cell to train and evaluate a random forest model.  (*Note that we don't use the `score_dataset()` function above, because we will soon use the trained model to generate test predictions!*)"
   ]
  },
  {
   "cell_type": "code",
   "execution_count": 20,
   "id": "88902894",
   "metadata": {
    "execution": {
     "iopub.execute_input": "2024-03-09T21:36:49.526873Z",
     "iopub.status.busy": "2024-03-09T21:36:49.525880Z",
     "iopub.status.idle": "2024-03-09T21:36:50.924502Z",
     "shell.execute_reply": "2024-03-09T21:36:50.923300Z"
    },
    "papermill": {
     "duration": 1.413143,
     "end_time": "2024-03-09T21:36:50.927349",
     "exception": false,
     "start_time": "2024-03-09T21:36:49.514206",
     "status": "completed"
    },
    "tags": []
   },
   "outputs": [
    {
     "name": "stdout",
     "output_type": "stream",
     "text": [
      "MAE (Your approach):\n",
      "18062.894611872147\n"
     ]
    }
   ],
   "source": [
    "# Define and fit model\n",
    "model = RandomForestRegressor(n_estimators=100, random_state=0)\n",
    "model.fit(final_X_train, y_train)\n",
    "\n",
    "# Get validation predictions and MAE\n",
    "preds_valid = model.predict(final_X_valid)\n",
    "print(\"MAE (Your approach):\")\n",
    "print(mean_absolute_error(y_valid, preds_valid))"
   ]
  },
  {
   "cell_type": "markdown",
   "id": "ed0e87a3",
   "metadata": {
    "papermill": {
     "duration": 0.010403,
     "end_time": "2024-03-09T21:36:50.948407",
     "exception": false,
     "start_time": "2024-03-09T21:36:50.938004",
     "status": "completed"
    },
    "tags": []
   },
   "source": [
    "### Part B\n",
    "\n",
    "Use the next code cell to preprocess your test data.  Make sure that you use a method that agrees with how you preprocessed the training and validation data, and set the preprocessed test features to `final_X_test`.\n",
    "\n",
    "Then, use the preprocessed test features and the trained model to generate test predictions in `preds_test`.\n",
    "\n",
    "In order for this step to be marked correct, you need only ensure:\n",
    "- the preprocessed test DataFrame has no missing values, and\n",
    "- `final_X_test` has the same number of rows as `X_test`."
   ]
  },
  {
   "cell_type": "code",
   "execution_count": 21,
   "id": "3bb03829",
   "metadata": {
    "execution": {
     "iopub.execute_input": "2024-03-09T21:36:50.971814Z",
     "iopub.status.busy": "2024-03-09T21:36:50.971446Z",
     "iopub.status.idle": "2024-03-09T21:36:51.020881Z",
     "shell.execute_reply": "2024-03-09T21:36:51.019706Z"
    },
    "papermill": {
     "duration": 0.063649,
     "end_time": "2024-03-09T21:36:51.023122",
     "exception": false,
     "start_time": "2024-03-09T21:36:50.959473",
     "status": "completed"
    },
    "tags": []
   },
   "outputs": [
    {
     "data": {
      "application/javascript": [
       "parent.postMessage({\"jupyterEvent\": \"custom.exercise_interaction\", \"data\": {\"outcomeType\": 1, \"valueTowardsCompletion\": 1.0, \"interactionType\": 1, \"questionType\": 2, \"questionId\": \"4.2_PredsCodeB\", \"learnToolsVersion\": \"0.3.4\", \"failureMessage\": \"\", \"exceptionClass\": \"\", \"trace\": \"\"}}, \"*\")"
      ],
      "text/plain": [
       "<IPython.core.display.Javascript object>"
      ]
     },
     "metadata": {},
     "output_type": "display_data"
    },
    {
     "data": {
      "text/markdown": [
       "<span style=\"color:#33cc33\">Correct</span>"
      ],
      "text/plain": [
       "Correct"
      ]
     },
     "metadata": {},
     "output_type": "display_data"
    }
   ],
   "source": [
    "# Fill in the line below: preprocess test data\n",
    "\n",
    "my_imputer = SimpleImputer()\n",
    "imputed_X_test = pd.DataFrame(my_imputer.fit_transform(X_test))\n",
    "imputed_X_test.columns = X_test.columns\n",
    "\n",
    "final_X_test = imputed_X_test\n",
    "\n",
    "# Fill in the line below: get test predictions\n",
    "preds_test = model.predict(final_X_test)\n",
    "\n",
    "# Check your answers\n",
    "step_4.b.check()"
   ]
  },
  {
   "cell_type": "code",
   "execution_count": 22,
   "id": "232c3633",
   "metadata": {
    "execution": {
     "iopub.execute_input": "2024-03-09T21:36:51.048187Z",
     "iopub.status.busy": "2024-03-09T21:36:51.047085Z",
     "iopub.status.idle": "2024-03-09T21:36:51.052118Z",
     "shell.execute_reply": "2024-03-09T21:36:51.051174Z"
    },
    "papermill": {
     "duration": 0.020144,
     "end_time": "2024-03-09T21:36:51.054308",
     "exception": false,
     "start_time": "2024-03-09T21:36:51.034164",
     "status": "completed"
    },
    "tags": []
   },
   "outputs": [],
   "source": [
    "# Lines below will give you a hint or solution code\n",
    "#step_4.b.hint()\n",
    "#step_4.b.solution()"
   ]
  },
  {
   "cell_type": "markdown",
   "id": "92962f6a",
   "metadata": {
    "papermill": {
     "duration": 0.065296,
     "end_time": "2024-03-09T21:36:51.131305",
     "exception": false,
     "start_time": "2024-03-09T21:36:51.066009",
     "status": "completed"
    },
    "tags": []
   },
   "source": [
    "Run the next code cell without changes to save your results to a CSV file that can be submitted directly to the competition."
   ]
  },
  {
   "cell_type": "code",
   "execution_count": 23,
   "id": "9ff7ea93",
   "metadata": {
    "execution": {
     "iopub.execute_input": "2024-03-09T21:36:51.155973Z",
     "iopub.status.busy": "2024-03-09T21:36:51.154774Z",
     "iopub.status.idle": "2024-03-09T21:36:51.166734Z",
     "shell.execute_reply": "2024-03-09T21:36:51.165511Z"
    },
    "papermill": {
     "duration": 0.026763,
     "end_time": "2024-03-09T21:36:51.169206",
     "exception": false,
     "start_time": "2024-03-09T21:36:51.142443",
     "status": "completed"
    },
    "tags": []
   },
   "outputs": [],
   "source": [
    "# Save test predictions to file\n",
    "output = pd.DataFrame({'Id': X_test.index,\n",
    "                       'SalePrice': preds_test})\n",
    "output.to_csv('submission.csv', index=False)"
   ]
  },
  {
   "cell_type": "markdown",
   "id": "f4ed2aa1",
   "metadata": {
    "papermill": {
     "duration": 0.010732,
     "end_time": "2024-03-09T21:36:51.191145",
     "exception": false,
     "start_time": "2024-03-09T21:36:51.180413",
     "status": "completed"
    },
    "tags": []
   },
   "source": [
    "# Submit your results\n",
    "\n",
    "Once you have successfully completed Step 4, you're ready to submit your results to the leaderboard!  (_You also learned how to do this in the previous exercise.  If you need a reminder of how to do this, please use the instructions below._)  \n",
    "\n",
    "First, you'll need to join the competition if you haven't already.  So open a new window by clicking on [this link](https://www.kaggle.com/c/home-data-for-ml-course).  Then click on the **Join Competition** button.\n",
    "\n",
    "![join competition image](https://storage.googleapis.com/kaggle-media/learn/images/wLmFtH3.png)\n",
    "\n",
    "Next, follow the instructions below:\n",
    "1. Begin by clicking on the **Save Version** button in the top right corner of the window.  This will generate a pop-up window.  \n",
    "2. Ensure that the **Save and Run All** option is selected, and then click on the **Save** button.\n",
    "3. This generates a window in the bottom left corner of the notebook.  After it has finished running, click on the number to the right of the **Save Version** button.  This pulls up a list of versions on the right of the screen.  Click on the ellipsis **(...)** to the right of the most recent version, and select **Open in Viewer**.  This brings you into view mode of the same page. You will need to scroll down to get back to these instructions.\n",
    "4. Click on the **Data** tab near the top of the screen.  Then, click on the file you would like to submit, and click on the **Submit** button to submit your results to the leaderboard.\n",
    "\n",
    "You have now successfully submitted to the competition!\n",
    "\n",
    "If you want to keep working to improve your performance, select the **Edit** button in the top right of the screen. Then you can change your code and repeat the process. There's a lot of room to improve, and you will climb up the leaderboard as you work.\n",
    "\n",
    "\n",
    "# Keep going\n",
    "\n",
    "Move on to learn what **[categorical variables](https://www.kaggle.com/alexisbcook/categorical-variables)** are, along with how to incorporate them into your machine learning models.  Categorical variables are very common in real-world data, but you'll get an error if you try to plug them into your models without processing them first!"
   ]
  },
  {
   "cell_type": "markdown",
   "id": "487ae2af",
   "metadata": {
    "papermill": {
     "duration": 0.010627,
     "end_time": "2024-03-09T21:36:51.212647",
     "exception": false,
     "start_time": "2024-03-09T21:36:51.202020",
     "status": "completed"
    },
    "tags": []
   },
   "source": [
    "---\n",
    "\n",
    "\n",
    "\n",
    "\n",
    "*Have questions or comments? Visit the [course discussion forum](https://www.kaggle.com/learn/intermediate-machine-learning/discussion) to chat with other learners.*"
   ]
  }
 ],
 "metadata": {
  "kaggle": {
   "accelerator": "none",
   "dataSources": [
    {
     "databundleVersionId": 111096,
     "sourceId": 10211,
     "sourceType": "competition"
    }
   ],
   "isGpuEnabled": false,
   "isInternetEnabled": false,
   "language": "python",
   "sourceType": "notebook"
  },
  "kernelspec": {
   "display_name": "Python 3",
   "language": "python",
   "name": "python3"
  },
  "language_info": {
   "codemirror_mode": {
    "name": "ipython",
    "version": 3
   },
   "file_extension": ".py",
   "mimetype": "text/x-python",
   "name": "python",
   "nbconvert_exporter": "python",
   "pygments_lexer": "ipython3",
   "version": "3.10.13"
  },
  "papermill": {
   "default_parameters": {},
   "duration": 10.887128,
   "end_time": "2024-03-09T21:36:51.744521",
   "environment_variables": {},
   "exception": null,
   "input_path": "__notebook__.ipynb",
   "output_path": "__notebook__.ipynb",
   "parameters": {},
   "start_time": "2024-03-09T21:36:40.857393",
   "version": "2.5.0"
  }
 },
 "nbformat": 4,
 "nbformat_minor": 5
}
